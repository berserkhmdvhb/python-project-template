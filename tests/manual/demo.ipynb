{
 "cells": [
  {
   "cell_type": "markdown",
   "id": "103e8ca1",
   "metadata": {},
   "source": []
  },
  {
   "cell_type": "code",
   "execution_count": 1,
   "id": "4899535c",
   "metadata": {},
   "outputs": [],
   "source": [
    "import sys\n",
    "import os\n",
    "import subprocess\n",
    "import pytest\n",
    "# Ensure 'src' is in sys.path to allow direct Python imports (e.g., for `find_chars`)\n",
    "sys.path.insert(0, os.path.abspath(os.path.join(\"..\", \"..\", \"src\")))\n",
    "\n",
    "import myproject.cli"
   ]
  },
  {
   "cell_type": "code",
   "execution_count": 1,
   "id": "9b5e8884",
   "metadata": {},
   "outputs": [
    {
     "name": "stdout",
     "output_type": "stream",
     "text": [
      "Contents of .env.test:\n",
      "MYPROJECT_ENV=PROD\n",
      "MYPROJECT_LOG_MAX_BYTES=1234\n",
      "MYPROJECT_LOG_BACKUP_COUNT=7\n",
      "\n"
     ]
    }
   ],
   "source": [
    "import os\n",
    "from pathlib import Path\n",
    "import importlib\n",
    "import sys\n",
    "\n",
    "# Create a temporary test directory\n",
    "tmp_path = Path.cwd() / \"tmp_test_env\"\n",
    "tmp_path.mkdir(exist_ok=True)\n",
    "\n",
    "# Write .env.test file\n",
    "env_test_file = tmp_path / \".env.test\"\n",
    "env_test_file.write_text(\n",
    "    \"MYPROJECT_ENV=PROD\\nMYPROJECT_LOG_MAX_BYTES=1234\\nMYPROJECT_LOG_BACKUP_COUNT=7\\n\"\n",
    ")\n",
    "\n",
    "print(f\"Contents of .env.test:\\n{env_test_file.read_text()}\")\n"
   ]
  },
  {
   "cell_type": "code",
   "execution_count": 2,
   "id": "2dbd6e14",
   "metadata": {},
   "outputs": [
    {
     "name": "stdout",
     "output_type": "stream",
     "text": [
      "Changed CWD to: c:\\Users\\HamedVAHEB\\Documents\\Training\\Python\\Template\\python-project-template\\tests\\manual\\tmp_test_env\n"
     ]
    }
   ],
   "source": [
    "# Clear relevant env vars\n",
    "os.environ.pop(\"DOTENV_PATH\", None)\n",
    "os.environ.pop(\"MYPROJECT_ENV\", None)\n",
    "os.environ[\"PYTEST_CURRENT_TEST\"] = \"dummy_test\"\n",
    "\n",
    "# Change current directory\n",
    "os.chdir(tmp_path)\n",
    "print(f\"Changed CWD to: {Path.cwd()}\")\n"
   ]
  },
  {
   "cell_type": "code",
   "execution_count": 3,
   "id": "f1c6a6cb",
   "metadata": {},
   "outputs": [
    {
     "name": "stdout",
     "output_type": "stream",
     "text": [
      "Reloaded settings\n"
     ]
    }
   ],
   "source": [
    "# Force reload of myproject.settings\n",
    "sys.modules.pop(\"myproject.settings\", None)\n",
    "import myproject.settings as settings\n",
    "\n",
    "print(\"Reloaded settings\")\n"
   ]
  },
  {
   "cell_type": "code",
   "execution_count": 4,
   "id": "e5655616",
   "metadata": {},
   "outputs": [
    {
     "name": "stdout",
     "output_type": "stream",
     "text": [
      "MYPROJECT_ENV: PROD\n",
      "MYPROJECT_LOG_MAX_BYTES: 1000000\n",
      "MYPROJECT_LOG_BACKUP_COUNT: 5\n"
     ]
    }
   ],
   "source": [
    "print(\"MYPROJECT_ENV:\", settings.get_environment())\n",
    "print(\"MYPROJECT_LOG_MAX_BYTES:\", settings.get_log_max_bytes())\n",
    "print(\"MYPROJECT_LOG_BACKUP_COUNT:\", settings.get_log_backup_count())\n"
   ]
  },
  {
   "cell_type": "code",
   "execution_count": 1,
   "id": "3281bbb4",
   "metadata": {},
   "outputs": [
    {
     "ename": "NameError",
     "evalue": "name 'os' is not defined",
     "output_type": "error",
     "traceback": [
      "\u001b[31m---------------------------------------------------------------------------\u001b[39m",
      "\u001b[31mNameError\u001b[39m                                 Traceback (most recent call last)",
      "\u001b[36mCell\u001b[39m\u001b[36m \u001b[39m\u001b[32mIn[1]\u001b[39m\u001b[32m, line 2\u001b[39m\n\u001b[32m      1\u001b[39m \u001b[38;5;66;03m# Reset environment and remove test folder if you want\u001b[39;00m\n\u001b[32m----> \u001b[39m\u001b[32m2\u001b[39m \u001b[43mos\u001b[49m.environ.pop(\u001b[33m\"\u001b[39m\u001b[33mPYTEST_CURRENT_TEST\u001b[39m\u001b[33m\"\u001b[39m, \u001b[38;5;28;01mNone\u001b[39;00m)\n\u001b[32m      3\u001b[39m os.chdir(\u001b[33m\"\u001b[39m\u001b[33m..\u001b[39m\u001b[33m\"\u001b[39m)  \u001b[38;5;66;03m# Move out of tmp dir\u001b[39;00m\n\u001b[32m      4\u001b[39m \u001b[38;5;28;01mimport\u001b[39;00m\u001b[38;5;250m \u001b[39m\u001b[34;01mshutil\u001b[39;00m\n",
      "\u001b[31mNameError\u001b[39m: name 'os' is not defined"
     ]
    }
   ],
   "source": [
    "# Reset environment and remove test folder if you want\n",
    "os.environ.pop(\"PYTEST_CURRENT_TEST\", None)\n",
    "os.chdir(\"..\")  # Move out of tmp dir\n",
    "import shutil\n",
    "shutil.rmtree(tmp_path)\n",
    "print(\"Cleaned up test environment.\")\n"
   ]
  },
  {
   "cell_type": "code",
   "execution_count": 1,
   "id": "1332c325",
   "metadata": {},
   "outputs": [],
   "source": [
    "import os\n",
    "import sys\n",
    "from pathlib import Path\n",
    "\n",
    "# Automatically compute root: 2 levels up from this notebook\n",
    "project_root = Path(__file__).resolve().parents[2] if \"__file__\" in globals() else Path.cwd().resolve().parents[1]\n",
    "os.chdir(project_root)\n",
    "\n",
    "# Add src/ to sys.path to enable `import myproject`\n",
    "sys.path.insert(0, str(project_root / \"src\"))\n",
    "\n",
    "# Clean up any environment contamination\n",
    "import sys\n",
    "sys.modules.pop(\"myproject.settings\", None)\n",
    "os.environ.pop(\"MYPROJECT_LOG_MAX_BYTES\", None)\n",
    "os.environ.pop(\"MYPROJECT_ENV\", None)\n",
    "os.environ.pop(\"DOTENV_PATH\", None)\n",
    "os.environ.pop(\"PYTEST_CURRENT_TEST\", None)\n"
   ]
  },
  {
   "cell_type": "code",
   "execution_count": 2,
   "id": "d0d338fb",
   "metadata": {},
   "outputs": [
    {
     "name": "stdout",
     "output_type": "stream",
     "text": [
      "ENVIRONMENT: UAT\n",
      "MAX_BYTES: 2000000\n",
      "BACKUP_COUNT: 5\n"
     ]
    }
   ],
   "source": [
    "import myproject.settings as settings\n",
    "\n",
    "print(\"ENVIRONMENT:\", settings.get_environment())\n",
    "print(\"MAX_BYTES:\", settings.get_log_max_bytes())\n",
    "print(\"BACKUP_COUNT:\", settings.get_log_backup_count())\n"
   ]
  },
  {
   "cell_type": "code",
   "execution_count": 3,
   "id": "edf65a17",
   "metadata": {},
   "outputs": [
    {
     "name": "stdout",
     "output_type": "stream",
     "text": [
      "OrderedDict({'MYPROJECT_ENV': 'DEV', 'MYPROJECT_LOG_MAX_BYTES': '1000000', 'MYPROJECT_LOG_BACKUP_COUNT': '5'})\n"
     ]
    }
   ],
   "source": [
    "from dotenv import dotenv_values\n",
    "from pathlib import Path\n",
    "\n",
    "print(dotenv_values(Path.cwd() / \".env\"))"
   ]
  },
  {
   "cell_type": "code",
   "execution_count": 1,
   "id": "af6cc2a5",
   "metadata": {},
   "outputs": [
    {
     "name": "stdout",
     "output_type": "stream",
     "text": [
      "ENVIRONMENT: DEV\n",
      "MAX_BYTES: 1000000\n",
      "BACKUP_COUNT: 5\n"
     ]
    }
   ],
   "source": [
    "import os\n",
    "import sys\n",
    "import importlib\n",
    "from pathlib import Path\n",
    "from dotenv import load_dotenv\n",
    "\n",
    "# Clear everything relevant\n",
    "for var in [\n",
    "    \"MYPROJECT_ENV\", \n",
    "    \"MYPROJECT_LOG_MAX_BYTES\", \n",
    "    \"MYPROJECT_LOG_BACKUP_COUNT\", \n",
    "    \"DOTENV_PATH\", \n",
    "    \"PYTEST_CURRENT_TEST\"\n",
    "]:\n",
    "    os.environ.pop(var, None)\n",
    "\n",
    "# Force .env loading\n",
    "load_dotenv(dotenv_path=Path.cwd() / \".env\", override=True)\n",
    "\n",
    "# Force reloading settings module to apply new env\n",
    "sys.modules.pop(\"myproject.settings\", None)\n",
    "import myproject.settings as settings\n",
    "\n",
    "print(\"ENVIRONMENT:\", settings.get_environment())\n",
    "print(\"MAX_BYTES:\", settings.get_log_max_bytes())\n",
    "print(\"BACKUP_COUNT:\", settings.get_log_backup_count())\n"
   ]
  },
  {
   "cell_type": "markdown",
   "id": "5e0c7713",
   "metadata": {},
   "source": []
  },
  {
   "cell_type": "markdown",
   "id": "91866826",
   "metadata": {},
   "source": []
  },
  {
   "cell_type": "code",
   "execution_count": 1,
   "id": "c732e17b",
   "metadata": {},
   "outputs": [
    {
     "name": "stdout",
     "output_type": "stream",
     "text": [
      "MYPROJECT_ENV: None\n",
      "DOTENV_PATH: None\n",
      "PYTEST_CURRENT_TEST: None\n"
     ]
    }
   ],
   "source": [
    "import os\n",
    "\n",
    "# Clear all relevant env vars\n",
    "for var in [\"MYPROJECT_ENV\", \"DOTENV_PATH\", \"PYTEST_CURRENT_TEST\"]:\n",
    "    os.environ.pop(var, None)\n",
    "\n",
    "# Confirm they're gone\n",
    "print(\"MYPROJECT_ENV:\", os.getenv(\"MYPROJECT_ENV\"))\n",
    "print(\"DOTENV_PATH:\", os.getenv(\"DOTENV_PATH\"))\n",
    "print(\"PYTEST_CURRENT_TEST:\", os.getenv(\"PYTEST_CURRENT_TEST\"))\n"
   ]
  },
  {
   "cell_type": "code",
   "execution_count": 2,
   "id": "73c5b2bb",
   "metadata": {},
   "outputs": [
    {
     "name": "stdout",
     "output_type": "stream",
     "text": [
      "Not found: c:\\Users\\HamedVAHEB\\Documents\\Training\\Python\\Template\\python-project-template\\tests\\manual\\.env\n",
      "Not found: c:\\Users\\HamedVAHEB\\Documents\\Training\\Python\\Template\\python-project-template\\tests\\manual\\.env.override\n",
      "Not found: c:\\Users\\HamedVAHEB\\Documents\\Training\\Python\\Template\\python-project-template\\tests\\manual\\.env.test\n"
     ]
    }
   ],
   "source": [
    "from pathlib import Path\n",
    "\n",
    "cwd = Path.cwd()\n",
    "for name in [\".env\", \".env.override\", \".env.test\"]:\n",
    "    f = cwd / name\n",
    "    if f.exists():\n",
    "        f.unlink()\n",
    "        print(f\"Deleted: {f}\")\n",
    "    else:\n",
    "        print(f\"Not found: {f}\")\n"
   ]
  },
  {
   "cell_type": "markdown",
   "id": "21248fc2",
   "metadata": {},
   "source": []
  },
  {
   "cell_type": "markdown",
   "id": "0be1f4ae",
   "metadata": {},
   "source": []
  },
  {
   "cell_type": "code",
   "execution_count": 1,
   "id": "a7ef517b",
   "metadata": {},
   "outputs": [
    {
     "name": "stdout",
     "output_type": "stream",
     "text": [
      "[settings] Loaded environment variables from:\n",
      "  - C:\\Users\\HamedVAHEB\\Documents\\Training\\Python\\Template\\python-project-template\\.env.test\n",
      "  - C:\\Users\\HamedVAHEB\\Documents\\Training\\Python\\Template\\python-project-template\\.env.override\n",
      "  - C:\\Users\\HamedVAHEB\\Documents\\Training\\Python\\Template\\python-project-template\\.env\n"
     ]
    }
   ],
   "source": [
    "import os\n",
    "os.environ[\"PYTEST_CURRENT_TEST\"] = \"demo_simulated_test\"\n",
    "os.environ[\"MYPROJECT_DEBUG_ENV_LOAD\"] = \"1\"\n",
    "import myproject.settings"
   ]
  },
  {
   "cell_type": "markdown",
   "id": "fc0fc359",
   "metadata": {},
   "source": []
  },
  {
   "cell_type": "markdown",
   "id": "8b7dcf05",
   "metadata": {},
   "source": []
  },
  {
   "cell_type": "markdown",
   "id": "d5984f68",
   "metadata": {},
   "source": []
  },
  {
   "cell_type": "code",
   "execution_count": 1,
   "id": "1ec8cca0",
   "metadata": {},
   "outputs": [],
   "source": [
    "import os\n",
    "\n",
    "# Simulate a clean environment (no overrides or test context)\n",
    "os.environ.pop(\"MYPROJECT_LOG_LEVEL\", None)\n",
    "os.environ.pop(\"DOTENV_PATH\", None)\n",
    "os.environ.pop(\"PYTEST_CURRENT_TEST\", None)\n"
   ]
  },
  {
   "cell_type": "code",
   "execution_count": 2,
   "id": "db4351b9",
   "metadata": {},
   "outputs": [
    {
     "name": "stdout",
     "output_type": "stream",
     "text": [
      "[settings] Loaded environment variables from:\n",
      "  - C:\\Users\\HamedVAHEB\\Documents\\Training\\Python\\Template\\python-project-template\\.env.test\n",
      "  - C:\\Users\\HamedVAHEB\\Documents\\Training\\Python\\Template\\python-project-template\\.env.override\n",
      "  - C:\\Users\\HamedVAHEB\\Documents\\Training\\Python\\Template\\python-project-template\\.env\n"
     ]
    },
    {
     "data": {
      "text/plain": [
       "<module 'myproject.settings' from 'C:\\\\Users\\\\HamedVAHEB\\\\Documents\\\\Training\\\\Python\\\\Template\\\\python-project-template\\\\src\\\\myproject\\\\settings.py'>"
      ]
     },
     "execution_count": 2,
     "metadata": {},
     "output_type": "execute_result"
    }
   ],
   "source": [
    "import importlib\n",
    "import myproject.settings\n",
    "\n",
    "# Reload the settings module to reapply dotenv logic\n",
    "os.environ[\"PYTEST_CURRENT_TEST\"] = \"demo_simulated_test\"\n",
    "os.environ[\"MYPROJECT_DEBUG_ENV_LOAD\"] = \"1\"\n",
    "importlib.reload(myproject.settings)\n"
   ]
  },
  {
   "cell_type": "code",
   "execution_count": 3,
   "id": "ad167376",
   "metadata": {},
   "outputs": [
    {
     "name": "stdout",
     "output_type": "stream",
     "text": [
      "✅ Default log level is correctly set to INFO\n"
     ]
    }
   ],
   "source": [
    "assert myproject.settings.get_default_log_level() == \"INFO\"\n",
    "print(\"✅ Default log level is correctly set to INFO\")\n"
   ]
  },
  {
   "cell_type": "code",
   "execution_count": 4,
   "id": "887b41e7",
   "metadata": {},
   "outputs": [
    {
     "name": "stdout",
     "output_type": "stream",
     "text": [
      "[settings] Loaded environment variables from:\n",
      "  - C:\\Users\\HamedVAHEB\\Documents\\Training\\Python\\Template\\python-project-template\\.env.test\n",
      "  - C:\\Users\\HamedVAHEB\\Documents\\Training\\Python\\Template\\python-project-template\\.env.override\n",
      "  - C:\\Users\\HamedVAHEB\\Documents\\Training\\Python\\Template\\python-project-template\\.env\n",
      "✅ Log level override works (DEBUG)\n"
     ]
    }
   ],
   "source": [
    "os.environ[\"MYPROJECT_LOG_LEVEL\"] = \"DEBUG\"\n",
    "importlib.reload(myproject.settings)\n",
    "assert myproject.settings.get_default_log_level() == \"DEBUG\"\n",
    "print(\"✅ Log level override works (DEBUG)\")\n"
   ]
  },
  {
   "cell_type": "code",
   "execution_count": null,
   "id": "3f93a6dd",
   "metadata": {},
   "outputs": [],
   "source": []
  },
  {
   "cell_type": "markdown",
   "id": "7353f2a6",
   "metadata": {},
   "source": []
  },
  {
   "cell_type": "markdown",
   "id": "03589e78",
   "metadata": {},
   "source": []
  },
  {
   "cell_type": "markdown",
   "id": "4c88ead3",
   "metadata": {},
   "source": []
  },
  {
   "cell_type": "code",
   "execution_count": 1,
   "id": "89b108fd",
   "metadata": {},
   "outputs": [
    {
     "name": "stdout",
     "output_type": "stream",
     "text": [
      "Changed working directory to: C:\\Users\\HAMEDV~1\\AppData\\Local\\Temp\\tmpuo9s21qr\n"
     ]
    }
   ],
   "source": [
    "import os\n",
    "from pathlib import Path\n",
    "import tempfile\n",
    "import importlib\n",
    "\n",
    "# Unset related env vars\n",
    "os.environ.pop(\"MYPROJECT_ENV\", None)\n",
    "os.environ.pop(\"DOTENV_PATH\", None)\n",
    "os.environ.pop(\"PYTEST_CURRENT_TEST\", None)\n",
    "\n",
    "# Create and switch to a clean temp directory (no .env files here)\n",
    "temp_dir = Path(tempfile.mkdtemp())\n",
    "os.chdir(temp_dir)\n",
    "print(f\"Changed working directory to: {temp_dir}\")\n"
   ]
  },
  {
   "cell_type": "code",
   "execution_count": 2,
   "id": "018c1e0a",
   "metadata": {},
   "outputs": [
    {
     "name": "stdout",
     "output_type": "stream",
     "text": [
      "[settings] Loaded environment variables from:\n",
      "  - C:\\Users\\HamedVAHEB\\Documents\\Training\\Python\\Template\\python-project-template\\.env.test\n",
      "  - C:\\Users\\HamedVAHEB\\Documents\\Training\\Python\\Template\\python-project-template\\.env.override\n",
      "  - C:\\Users\\HamedVAHEB\\Documents\\Training\\Python\\Template\\python-project-template\\.env\n"
     ]
    }
   ],
   "source": [
    "import myproject.settings\n",
    "os.environ[\"PYTEST_CURRENT_TEST\"] = \"demo_simulated_test\"\n",
    "os.environ[\"MYPROJECT_DEBUG_ENV_LOAD\"] = \"1\"\n",
    "settings = importlib.reload(myproject.settings)\n"
   ]
  },
  {
   "cell_type": "code",
   "execution_count": 3,
   "id": "068a0420",
   "metadata": {},
   "outputs": [
    {
     "name": "stdout",
     "output_type": "stream",
     "text": [
      "✅ Default environment fallback works as expected\n"
     ]
    }
   ],
   "source": [
    "assert settings.get_environment() == \"DEV\", f\"Expected DEV, got {settings.get_environment()}\"\n",
    "assert settings.is_dev(), \"Expected is_dev() to be True\"\n",
    "assert not settings.is_uat() and not settings.is_prod(), \"Expected is_uat() and is_prod() to be False\"\n",
    "print(\"✅ Default environment fallback works as expected\")\n"
   ]
  },
  {
   "cell_type": "code",
   "execution_count": 4,
   "id": "1a533d6a",
   "metadata": {},
   "outputs": [
    {
     "data": {
      "text/plain": [
       "'DEV'"
      ]
     },
     "execution_count": 4,
     "metadata": {},
     "output_type": "execute_result"
    }
   ],
   "source": [
    "settings.get_environment()"
   ]
  },
  {
   "cell_type": "code",
   "execution_count": null,
   "id": "e03174d0",
   "metadata": {},
   "outputs": [],
   "source": []
  },
  {
   "cell_type": "markdown",
   "id": "5a49ab57",
   "metadata": {},
   "source": []
  },
  {
   "cell_type": "markdown",
   "id": "0502e0c5",
   "metadata": {},
   "source": []
  },
  {
   "cell_type": "markdown",
   "id": "a6278513",
   "metadata": {},
   "source": []
  },
  {
   "cell_type": "code",
   "execution_count": 1,
   "id": "82b381bf",
   "metadata": {},
   "outputs": [],
   "source": [
    "import sys\n",
    "from pathlib import Path\n",
    "\n",
    "# Ensure root/src is in sys.path\n",
    "SRC_PATH = Path(\"../../src\").resolve()\n",
    "if str(SRC_PATH) not in sys.path:\n",
    "    sys.path.insert(0, str(SRC_PATH))\n"
   ]
  },
  {
   "cell_type": "code",
   "execution_count": 2,
   "id": "02905929",
   "metadata": {},
   "outputs": [],
   "source": [
    "import os\n",
    "from pathlib import Path\n",
    "\n",
    "custom_env = Path(\"../../.custom.env\").resolve()\n",
    "custom_env.write_text(\"MYPROJECT_ENV=UAT\\n\")\n",
    "\n",
    "# Simulate --dotenv-path behavior\n",
    "os.environ[\"DOTENV_PATH\"] = str(custom_env)\n",
    "os.environ[\"DOTENV_PATH\"] = \"../../.env.test\"  \n"
   ]
  },
  {
   "cell_type": "code",
   "execution_count": 3,
   "id": "583516b9",
   "metadata": {},
   "outputs": [
    {
     "data": {
      "text/plain": [
       "[WindowsPath('../../.env.test'),\n",
       " WindowsPath('C:/Users/HamedVAHEB/Documents/Training/Python/Template/python-project-template/.env.override'),\n",
       " WindowsPath('C:/Users/HamedVAHEB/Documents/Training/Python/Template/python-project-template/.env')]"
      ]
     },
     "execution_count": 3,
     "metadata": {},
     "output_type": "execute_result"
    }
   ],
   "source": [
    "from myproject.settings import load_settings\n",
    "\n",
    "# Load environment from .env\n",
    "loaded_files = load_settings()\n",
    "loaded_files  # See which file(s) were actually loaded\n"
   ]
  },
  {
   "cell_type": "code",
   "execution_count": 4,
   "id": "3d87e115",
   "metadata": {},
   "outputs": [
    {
     "name": "stdout",
     "output_type": "stream",
     "text": [
      "Environment: DEV\n",
      "is_dev(): True\n",
      "is_uat(): False\n",
      "is_prod(): False\n"
     ]
    }
   ],
   "source": [
    "import myproject.settings as sett\n",
    "\n",
    "print(\"Environment:\", sett.get_environment())\n",
    "print(\"is_dev():\", sett.is_dev())\n",
    "print(\"is_uat():\", sett.is_uat())\n",
    "print(\"is_prod():\", sett.is_prod())\n"
   ]
  },
  {
   "cell_type": "code",
   "execution_count": 1,
   "id": "14675b3c",
   "metadata": {},
   "outputs": [],
   "source": [
    "import os\n",
    "os.environ[\"DOTENV_PATH\"] = \"../../.env.test\"\n",
    "\n",
    "\n"
   ]
  },
  {
   "cell_type": "code",
   "execution_count": 2,
   "id": "d0d591f2",
   "metadata": {},
   "outputs": [
    {
     "name": "stdout",
     "output_type": "stream",
     "text": [
      "Loaded files: [WindowsPath('../../.env.test'), WindowsPath('C:/Users/HamedVAHEB/Documents/Training/Python/Template/python-project-template/.env.override'), WindowsPath('C:/Users/HamedVAHEB/Documents/Training/Python/Template/python-project-template/.env')]\n"
     ]
    }
   ],
   "source": [
    "from myproject.settings import load_settings\n",
    "loaded = load_settings()\n",
    "print(\"Loaded files:\", loaded)\n"
   ]
  },
  {
   "cell_type": "code",
   "execution_count": 3,
   "id": "1b707af9",
   "metadata": {},
   "outputs": [
    {
     "name": "stdout",
     "output_type": "stream",
     "text": [
      "MYPROJECT_ENV from os.environ: DEV\n"
     ]
    }
   ],
   "source": [
    "print(\"MYPROJECT_ENV from os.environ:\", os.getenv(\"MYPROJECT_ENV\"))\n"
   ]
  },
  {
   "cell_type": "code",
   "execution_count": 4,
   "id": "b722c023",
   "metadata": {},
   "outputs": [
    {
     "name": "stdout",
     "output_type": "stream",
     "text": [
      "Environment: DEV\n",
      "is_dev(): True\n",
      "is_uat(): False\n",
      "is_prod(): False\n"
     ]
    }
   ],
   "source": [
    "from myproject import settings as sett\n",
    "\n",
    "print(\"Environment:\", sett.get_environment())\n",
    "print(\"is_dev():\", sett.is_dev())\n",
    "print(\"is_uat():\", sett.is_uat())\n",
    "print(\"is_prod():\", sett.is_prod())\n"
   ]
  },
  {
   "cell_type": "code",
   "execution_count": 5,
   "id": "d88d6d76",
   "metadata": {},
   "outputs": [
    {
     "name": "stdout",
     "output_type": "stream",
     "text": [
      "Environment: DEV\n",
      "is_dev(): True\n",
      "is_uat(): False\n",
      "is_prod(): False\n"
     ]
    }
   ],
   "source": [
    "import os\n",
    "from importlib import reload\n",
    "import sys\n",
    "\n",
    "# Set path to your desired .env\n",
    "os.environ[\"DOTENV_PATH\"] = \"../../.env.test\"\n",
    "\n",
    "# Load dotenv and then force reload of settings\n",
    "from myproject.settings import load_settings\n",
    "load_settings()\n",
    "\n",
    "# Reload settings to reflect updated os.environ\n",
    "import myproject.settings as sett\n",
    "sett = reload(sys.modules[\"myproject.settings\"])\n",
    "\n",
    "# Confirm it worked\n",
    "print(\"Environment:\", sett.get_environment())\n",
    "print(\"is_dev():\", sett.is_dev())\n",
    "print(\"is_uat():\", sett.is_uat())\n",
    "print(\"is_prod():\", sett.is_prod())\n"
   ]
  },
  {
   "cell_type": "markdown",
   "id": "22324262",
   "metadata": {},
   "source": []
  },
  {
   "cell_type": "markdown",
   "id": "5e89aa27",
   "metadata": {},
   "source": []
  },
  {
   "cell_type": "code",
   "execution_count": 1,
   "id": "d0a2f27f",
   "metadata": {},
   "outputs": [
    {
     "name": "stdout",
     "output_type": "stream",
     "text": [
      "DOTENV_PATH set to: C:\\Users\\HamedVAHEB\\Documents\\Training\\Python\\Template\\python-project-template\\.env.test\n",
      "File exists: True\n"
     ]
    }
   ],
   "source": [
    "import os\n",
    "from pathlib import Path\n",
    "\n",
    "# Adjust the path as needed based on your notebook location\n",
    "env_path = Path(\"../../.env.test\").resolve()\n",
    "os.environ[\"DOTENV_PATH\"] = str(env_path)\n",
    "\n",
    "print(\"DOTENV_PATH set to:\", os.environ[\"DOTENV_PATH\"])\n",
    "print(\"File exists:\", env_path.exists())\n"
   ]
  },
  {
   "cell_type": "code",
   "execution_count": 2,
   "id": "78864b49",
   "metadata": {},
   "outputs": [
    {
     "name": "stdout",
     "output_type": "stream",
     "text": [
      "load_dotenv success: True\n",
      "MYPROJECT_ENV loaded: UAT\n"
     ]
    }
   ],
   "source": [
    "from dotenv import load_dotenv\n",
    "\n",
    "# Explicit manual load to verify if it works\n",
    "success = load_dotenv(dotenv_path=os.environ[\"DOTENV_PATH\"], override=True)\n",
    "print(\"load_dotenv success:\", success)\n",
    "print(\"MYPROJECT_ENV loaded:\", os.environ.get(\"MYPROJECT_ENV\"))\n"
   ]
  },
  {
   "cell_type": "code",
   "execution_count": 3,
   "id": "194201cc",
   "metadata": {},
   "outputs": [
    {
     "name": "stdout",
     "output_type": "stream",
     "text": [
      "Environment: UAT\n",
      "is_dev(): False\n",
      "is_uat(): True\n",
      "is_prod(): False\n"
     ]
    }
   ],
   "source": [
    "from importlib import reload\n",
    "import myproject.settings as sett\n",
    "\n",
    "sett = reload(sett)\n",
    "\n",
    "print(\"Environment:\", sett.get_environment())\n",
    "print(\"is_dev():\", sett.is_dev())\n",
    "print(\"is_uat():\", sett.is_uat())\n",
    "print(\"is_prod():\", sett.is_prod())\n"
   ]
  },
  {
   "cell_type": "code",
   "execution_count": 4,
   "id": "4ba6406f",
   "metadata": {},
   "outputs": [],
   "source": [
    "# Cell: load environment in notebook\n",
    "import os\n",
    "from pathlib import Path\n",
    "from dotenv import load_dotenv\n",
    "from importlib import reload\n",
    "import myproject.settings as sett\n",
    "\n",
    "# Set path to desired env\n",
    "env_path = Path(\"../../.env.test\").resolve()\n",
    "os.environ[\"DOTENV_PATH\"] = str(env_path)\n",
    "\n",
    "# Force reload\n",
    "load_dotenv(dotenv_path=env_path, override=True)\n",
    "sett = reload(sett)\n"
   ]
  },
  {
   "cell_type": "code",
   "execution_count": null,
   "id": "ade299c9",
   "metadata": {},
   "outputs": [],
   "source": []
  }
 ],
 "metadata": {
  "kernelspec": {
   "display_name": ".venv",
   "language": "python",
   "name": "python3"
  },
  "language_info": {
   "codemirror_mode": {
    "name": "ipython",
    "version": 3
   },
   "file_extension": ".py",
   "mimetype": "text/x-python",
   "name": "python",
   "nbconvert_exporter": "python",
   "pygments_lexer": "ipython3",
   "version": "3.13.0"
  }
 },
 "nbformat": 4,
 "nbformat_minor": 5
}
