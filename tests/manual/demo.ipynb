{
 "cells": [
  {
   "cell_type": "markdown",
   "id": "06ed131d",
   "metadata": {},
   "source": []
  },
  {
   "cell_type": "markdown",
   "id": "feac9119",
   "metadata": {},
   "source": []
  },
  {
   "cell_type": "markdown",
   "id": "3dd1cc83",
   "metadata": {},
   "source": []
  },
  {
   "cell_type": "markdown",
   "id": "103e8ca1",
   "metadata": {},
   "source": []
  },
  {
   "cell_type": "code",
   "execution_count": 1,
   "id": "4899535c",
   "metadata": {},
   "outputs": [],
   "source": [
    "import sys\n",
    "import os\n",
    "import subprocess\n",
    "from typing import List, Tuple\n",
    "\n",
    "# Ensure 'src' is in sys.path to allow direct Python imports (e.g., for `find_chars`)\n",
    "sys.path.insert(0, os.path.abspath(os.path.join(\"..\", \"..\", \"src\")))\n",
    "\n",
    "import myproject.cli"
   ]
  },
  {
   "cell_type": "code",
   "execution_count": 2,
   "id": "2aee8929",
   "metadata": {},
   "outputs": [
    {
     "name": "stdout",
     "output_type": "stream",
     "text": [
      "Logger configured and handler added.\n"
     ]
    }
   ],
   "source": [
    "import logging\n",
    "from io import StringIO\n",
    "\n",
    "log_stream = StringIO()\n",
    "handler = logging.StreamHandler(log_stream)\n",
    "logger = logging.getLogger(\"myproject.cli\")\n",
    "logger.addHandler(handler)\n",
    "logger.setLevel(logging.INFO)\n",
    "logger.propagate = False\n",
    "\n",
    "print(\"Logger configured and handler added.\")"
   ]
  },
  {
   "cell_type": "code",
   "execution_count": 3,
   "id": "982236f9",
   "metadata": {},
   "outputs": [
    {
     "name": "stdout",
     "output_type": "stream",
     "text": [
      "Logged 'Processing query...'\n",
      "Current stream contents:\n",
      "Processing query...\n",
      "\n"
     ]
    }
   ],
   "source": [
    "logger.info(\"Processing query...\")\n",
    "\n",
    "print(\"Logged 'Processing query...'\")\n",
    "print(\"Current stream contents:\")\n",
    "print(log_stream.getvalue())"
   ]
  },
  {
   "cell_type": "code",
   "execution_count": 4,
   "id": "4ec14e94",
   "metadata": {},
   "outputs": [
    {
     "name": "stdout",
     "output_type": "stream",
     "text": [
      "Log stream cleared.\n",
      "Current stream contents after clearing:\n",
      "\n"
     ]
    }
   ],
   "source": [
    "log_stream.truncate(0)\n",
    "log_stream.seek(0)\n",
    "\n",
    "print(\"Log stream cleared.\")\n",
    "print(\"Current stream contents after clearing:\")\n",
    "print(log_stream.getvalue())"
   ]
  },
  {
   "cell_type": "code",
   "execution_count": 5,
   "id": "e1dab629",
   "metadata": {},
   "outputs": [
    {
     "name": "stdout",
     "output_type": "stream",
     "text": [
      "Logged 'Another message'\n",
      "Stream contents:\n",
      "Another message\n",
      "\n"
     ]
    }
   ],
   "source": [
    "logger.info(\"Another message\")\n",
    "\n",
    "print(\"Logged 'Another message'\")\n",
    "print(\"Stream contents:\")\n",
    "print(log_stream.getvalue())"
   ]
  },
  {
   "cell_type": "code",
   "execution_count": 6,
   "id": "8b715844",
   "metadata": {},
   "outputs": [
    {
     "name": "stdout",
     "output_type": "stream",
     "text": [
      "Logged message after removing handler\n",
      "Stream contents (should be unchanged):\n",
      "Another message\n",
      "\n"
     ]
    }
   ],
   "source": [
    "logger.removeHandler(handler)\n",
    "\n",
    "logger.info(\"Message after handler removed\")\n",
    "\n",
    "print(\"Logged message after removing handler\")\n",
    "print(\"Stream contents (should be unchanged):\")\n",
    "print(log_stream.getvalue())"
   ]
  },
  {
   "cell_type": "code",
   "execution_count": 4,
   "id": "5ea8cd8d",
   "metadata": {},
   "outputs": [
    {
     "name": "stdout",
     "output_type": "stream",
     "text": [
      "[RESULT]\n",
      "Input query    : logtest\n",
      "Processed value: dummy_value\n",
      "Exit code: 0\n",
      "Captured logs:\n",
      " [INFO] Processing query...\n",
      "\n"
     ]
    }
   ],
   "source": [
    "import logging\n",
    "from io import StringIO\n",
    "from unittest import mock\n",
    "\n",
    "# Setup StringIO stream and logging handler\n",
    "log_stream = StringIO()\n",
    "handler = logging.StreamHandler(log_stream)\n",
    "logger = logging.getLogger(\"myproject.cli\")\n",
    "logger.addHandler(handler)\n",
    "logger.setLevel(logging.INFO)\n",
    "logger.propagate = False\n",
    "\n",
    "# Mock sys.argv for CLI args\n",
    "mock_args = [\"myproject\", \"--query\", \"logtest\", \"--color=never\"]\n",
    "\n",
    "with mock.patch.object(sys, \"argv\", mock_args):\n",
    "    try:\n",
    "        myproject.cli.main()\n",
    "    except SystemExit as e:\n",
    "        exit_code = e.code\n",
    "\n",
    "# Read captured logs\n",
    "logs = log_stream.getvalue()\n",
    "\n",
    "print(\"Exit code:\", exit_code)\n",
    "print(\"Captured logs:\\n\", logs)\n",
    "\n",
    "# Cleanup handler after test\n",
    "logger.removeHandler(handler)"
   ]
  },
  {
   "cell_type": "code",
   "execution_count": null,
   "id": "5ae317e6",
   "metadata": {},
   "outputs": [],
   "source": []
  }
 ],
 "metadata": {
  "kernelspec": {
   "display_name": ".venv",
   "language": "python",
   "name": "python3"
  },
  "language_info": {
   "codemirror_mode": {
    "name": "ipython",
    "version": 3
   },
   "file_extension": ".py",
   "mimetype": "text/x-python",
   "name": "python",
   "nbconvert_exporter": "python",
   "pygments_lexer": "ipython3",
   "version": "3.13.0"
  }
 },
 "nbformat": 4,
 "nbformat_minor": 5
}
