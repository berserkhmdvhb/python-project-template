{
 "cells": [
  {
   "cell_type": "markdown",
   "id": "103e8ca1",
   "metadata": {},
   "source": [
    "## Test `print_lines()`"
   ]
  },
  {
   "cell_type": "code",
   "execution_count": 1,
   "id": "4899535c",
   "metadata": {},
   "outputs": [],
   "source": [
    "\"\"\"\n",
    "import sys\n",
    "import os\n",
    "import subprocess\n",
    "import pytest\n",
    "# Ensure 'src' is in sys.path to allow direct Python imports (e.g., for `find_chars`)\n",
    "sys.path.insert(0, os.path.abspath(os.path.join(\"..\", \"..\", \"src\")))\n",
    "\"\"\"\n",
    "\n",
    "from myproject.cli.utils_color import print_lines, should_use_color\n",
    "\n",
    "lines = [\"one\", \"two\"]\n",
    "print_lines(lines, use_color=False)"
   ]
  },
  {
   "cell_type": "code",
   "execution_count": 6,
   "id": "d1c9bef0",
   "metadata": {},
   "outputs": [],
   "source": [
    "print_lines([\"[RESULT] done\", \"Input: ok\"], use_color=True)"
   ]
  },
  {
   "cell_type": "code",
   "execution_count": 11,
   "id": "aabc165e",
   "metadata": {},
   "outputs": [],
   "source": [
    "import sys\n",
    "from myproject.cli.utils_color import print_lines\n",
    "\n",
    "lines = [\"[RESULT] test passed\", \"Input query: demo\", \"plain log line\"]\n",
    "print_lines(lines, use_color=False, force_stdout=True)\n",
    "\n",
    "# Force flush stdout just in case\n",
    "sys.stdout.flush()"
   ]
  },
  {
   "cell_type": "markdown",
   "id": "cc15420f",
   "metadata": {},
   "source": [
    "## Test `run_cli`"
   ]
  },
  {
   "cell_type": "code",
   "execution_count": 3,
   "id": "80cf0142",
   "metadata": {},
   "outputs": [
    {
     "name": "stdout",
     "output_type": "stream",
     "text": [
      "New working directory: c:\\Users\\HamedVAHEB\\Documents\\Training\\Python\\Template\\python-project-template\n"
     ]
    }
   ],
   "source": [
    "import os\n",
    "\n",
    "# Go up 2 levels to reach the project root\n",
    "os.chdir(\"../../\")\n",
    "\n",
    "# Confirm you're now in the project root\n",
    "print(\"New working directory:\", os.getcwd())\n"
   ]
  },
  {
   "cell_type": "code",
   "execution_count": 5,
   "id": "08f5547f",
   "metadata": {},
   "outputs": [
    {
     "name": "stdout",
     "output_type": "stream",
     "text": [
      "New working directory: c:\\Users\\HamedVAHEB\\Documents\\Training\\Python\\Template\\python-project-template\n"
     ]
    }
   ],
   "source": [
    "import os\n",
    "\n",
    "# Go up 2 levels to reach the project root\n",
    "os.chdir(\"../../\")\n",
    "\n",
    "# Confirm you're now in the project root\n",
    "print(\"New working directory:\", os.getcwd())\n"
   ]
  },
  {
   "cell_type": "code",
   "execution_count": 7,
   "id": "c547d112",
   "metadata": {},
   "outputs": [
    {
     "name": "stdout",
     "output_type": "stream",
     "text": [
      "Exit code: 0\n",
      "\n",
      "STDOUT:\n",
      " [DEBUG] === DEBUG DIAGNOSTICS ===\n",
      "[DEBUG] Parsed args     : {'dotenv_path': None, 'env': None, 'query': 'alpha', 'verbose': False, 'debug': True, 'color': 'never', 'format': 'json'}\n",
      "[DEBUG] Environment     : DEV\n",
      "[DEBUG] Loaded dotenvs  : [WindowsPath('C:/Users/HamedVAHEB/Documents/Training/Python/Template/python-project-template/.demo/.env')]\n",
      "[DEBUG] === END DEBUG DIAGNOSTICS ===\n",
      "[INFO] Processing query...\n",
      "[DEBUG] Simulating logic in DEV mode...\n",
      "{\n",
      "  \"environment\": \"DEV\",\n",
      "  \"input\": \"alpha\",\n",
      "  \"output\": \"Processed (DEV MOCK): ALPHA\"\n",
      "}\n",
      "\n",
      "STDERR:\n",
      " [2025-06-01 19:49:21,258] [DEBUG] [DEV] Logging initialized in logs\\DEV with level DEBUG\n"
     ]
    }
   ],
   "source": [
    "from pathlib import Path\n",
    "from tests.utils import invoke_cli\n",
    "\n",
    "tmp_path = Path.cwd() / \".demo\"\n",
    "tmp_path.mkdir(parents=True, exist_ok=True)  # Ensure the directory exists\n",
    "\n",
    "stdout, stderr, code = invoke_cli([\"--debug\", \"--query\", \"alpha\"], tmp_path=tmp_path)\n",
    "\n",
    "print(\"Exit code:\", code)\n",
    "print(\"\\nSTDOUT:\\n\", stdout)\n",
    "print(\"\\nSTDERR:\\n\", stderr)\n"
   ]
  },
  {
   "cell_type": "markdown",
   "id": "c60f344c",
   "metadata": {},
   "source": [
    "## Test Handling Exceptions in `cli_main.py`"
   ]
  },
  {
   "cell_type": "code",
   "execution_count": 8,
   "id": "cffb5ce8",
   "metadata": {},
   "outputs": [
    {
     "name": "stdout",
     "output_type": "stream",
     "text": [
      "[DEBUG] === DEBUG DIAGNOSTICS ===\n",
      "[DEBUG] Parsed args     : {'dotenv_path': None, 'env': 'UAT', 'query': 'crash', 'verbose': False, 'debug': True, 'color': 'auto', 'format': 'json'}\n",
      "[DEBUG] Environment     : UAT\n",
      "[DEBUG] Loaded dotenvs  : [WindowsPath('C:/Users/HamedVAHEB/Documents/Training/Python/Template/python-project-template/.env.sample')]\n",
      "[DEBUG] === END DEBUG DIAGNOSTICS ===\n",
      "[INFO] Processing query...\n"
     ]
    },
    {
     "name": "stderr",
     "output_type": "stream",
     "text": [
      "[ERROR] Unexpected error: Boom\n",
      "Traceback (most recent call last):\n",
      "  File \"C:\\Users\\HamedVAHEB\\Documents\\Training\\Python\\Template\\python-project-template\\src\\myproject\\cli\\cli_main.py\", line 67, in main\n",
      "    processed = handlers.process_query_or_simulate(args, sett)\n",
      "  File \"C:\\Users\\HamedVAHEB\\AppData\\Local\\Programs\\Python\\Python313\\Lib\\unittest\\mock.py\", line 1167, in __call__\n",
      "    return self._mock_call(*args, **kwargs)\n",
      "           ~~~~~~~~~~~~~~~^^^^^^^^^^^^^^^^^\n",
      "  File \"C:\\Users\\HamedVAHEB\\AppData\\Local\\Programs\\Python\\Python313\\Lib\\unittest\\mock.py\", line 1171, in _mock_call\n",
      "    return self._execute_mock_call(*args, **kwargs)\n",
      "           ~~~~~~~~~~~~~~~~~~~~~~~^^^^^^^^^^^^^^^^^\n",
      "  File \"C:\\Users\\HamedVAHEB\\AppData\\Local\\Programs\\Python\\Python313\\Lib\\unittest\\mock.py\", line 1226, in _execute_mock_call\n",
      "    raise effect\n",
      "RuntimeError: Boom\n"
     ]
    },
    {
     "name": "stdout",
     "output_type": "stream",
     "text": [
      "\n",
      "[Notebook Output] Exit code: 1\n"
     ]
    }
   ],
   "source": [
    "import sys\n",
    "from unittest.mock import patch\n",
    "from myproject.cli import cli_main\n",
    "from myproject import constants as const\n",
    "\n",
    "# Simulate CLI input\n",
    "sys.argv = [\"myproject\", \"--query\", \"crash\", \"--debug\", \"--env\", \"UAT\"]\n",
    "\n",
    "# Monkeypatch the function to simulate a failure\n",
    "with patch(\"myproject.cli.handlers.process_query_or_simulate\", side_effect=RuntimeError(\"Boom\")):\n",
    "    try:\n",
    "        cli_main.main()\n",
    "    except SystemExit as e:\n",
    "        exit_code = e.code\n",
    "\n",
    "print(f\"\\n[Notebook Output] Exit code: {exit_code}\")\n"
   ]
  },
  {
   "cell_type": "code",
   "execution_count": null,
   "id": "1c7eb610",
   "metadata": {},
   "outputs": [],
   "source": []
  }
 ],
 "metadata": {
  "kernelspec": {
   "display_name": ".venv",
   "language": "python",
   "name": "python3"
  },
  "language_info": {
   "codemirror_mode": {
    "name": "ipython",
    "version": 3
   },
   "file_extension": ".py",
   "mimetype": "text/x-python",
   "name": "python",
   "nbconvert_exporter": "python",
   "pygments_lexer": "ipython3",
   "version": "3.13.0"
  }
 },
 "nbformat": 4,
 "nbformat_minor": 5
}
