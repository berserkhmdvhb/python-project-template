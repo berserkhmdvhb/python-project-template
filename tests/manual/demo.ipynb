{
 "cells": [
  {
   "cell_type": "markdown",
   "id": "103e8ca1",
   "metadata": {},
   "source": []
  },
  {
   "cell_type": "code",
   "execution_count": 1,
   "id": "4899535c",
   "metadata": {},
   "outputs": [],
   "source": [
    "import sys\n",
    "import os\n",
    "import subprocess\n",
    "import pytest\n",
    "# Ensure 'src' is in sys.path to allow direct Python imports (e.g., for `find_chars`)\n",
    "sys.path.insert(0, os.path.abspath(os.path.join(\"..\", \"..\", \"src\")))\n",
    "\n",
    "import myproject.cli"
   ]
  },
  {
   "cell_type": "code",
   "execution_count": 2,
   "id": "2aee8929",
   "metadata": {},
   "outputs": [
    {
     "name": "stdout",
     "output_type": "stream",
     "text": [
      "Logger configured and handler added.\n"
     ]
    }
   ],
   "source": [
    "import logging\n",
    "from io import StringIO\n",
    "\n",
    "log_stream = StringIO()\n",
    "handler = logging.StreamHandler(log_stream)\n",
    "logger = logging.getLogger(\"myproject.cli\")\n",
    "logger.addHandler(handler)\n",
    "logger.setLevel(logging.INFO)\n",
    "logger.propagate = False\n",
    "\n",
    "print(\"Logger configured and handler added.\")"
   ]
  },
  {
   "cell_type": "code",
   "execution_count": 3,
   "id": "982236f9",
   "metadata": {},
   "outputs": [
    {
     "name": "stdout",
     "output_type": "stream",
     "text": [
      "Logged 'Processing query...'\n",
      "Current stream contents:\n",
      "Processing query...\n",
      "\n"
     ]
    }
   ],
   "source": [
    "logger.info(\"Processing query...\")\n",
    "\n",
    "print(\"Logged 'Processing query...'\")\n",
    "print(\"Current stream contents:\")\n",
    "print(log_stream.getvalue())"
   ]
  },
  {
   "cell_type": "code",
   "execution_count": 4,
   "id": "4ec14e94",
   "metadata": {},
   "outputs": [
    {
     "name": "stdout",
     "output_type": "stream",
     "text": [
      "Log stream cleared.\n",
      "Current stream contents after clearing:\n",
      "\n"
     ]
    }
   ],
   "source": [
    "log_stream.truncate(0)\n",
    "log_stream.seek(0)\n",
    "\n",
    "print(\"Log stream cleared.\")\n",
    "print(\"Current stream contents after clearing:\")\n",
    "print(log_stream.getvalue())"
   ]
  },
  {
   "cell_type": "code",
   "execution_count": 5,
   "id": "e1dab629",
   "metadata": {},
   "outputs": [
    {
     "name": "stdout",
     "output_type": "stream",
     "text": [
      "Logged 'Another message'\n",
      "Stream contents:\n",
      "Another message\n",
      "\n"
     ]
    }
   ],
   "source": [
    "logger.info(\"Another message\")\n",
    "\n",
    "print(\"Logged 'Another message'\")\n",
    "print(\"Stream contents:\")\n",
    "print(log_stream.getvalue())"
   ]
  },
  {
   "cell_type": "code",
   "execution_count": 6,
   "id": "8b715844",
   "metadata": {},
   "outputs": [
    {
     "name": "stdout",
     "output_type": "stream",
     "text": [
      "Logged message after removing handler\n",
      "Stream contents (should be unchanged):\n",
      "Another message\n",
      "\n"
     ]
    }
   ],
   "source": [
    "logger.removeHandler(handler)\n",
    "\n",
    "logger.info(\"Message after handler removed\")\n",
    "\n",
    "print(\"Logged message after removing handler\")\n",
    "print(\"Stream contents (should be unchanged):\")\n",
    "print(log_stream.getvalue())"
   ]
  },
  {
   "cell_type": "code",
   "execution_count": 7,
   "id": "5ea8cd8d",
   "metadata": {},
   "outputs": [
    {
     "name": "stderr",
     "output_type": "stream",
     "text": [
      "[2025-05-29 15:01:30,484] [INFO] [DEV] Processing query...\n"
     ]
    },
    {
     "name": "stdout",
     "output_type": "stream",
     "text": [
      "[INFO] Processing query...\n"
     ]
    },
    {
     "name": "stderr",
     "output_type": "stream",
     "text": [
      "[2025-05-29 15:01:30,487] [DEBUG] [DEV] Simulating logic in DEV mode...\n"
     ]
    },
    {
     "name": "stdout",
     "output_type": "stream",
     "text": [
      "[DEBUG] Simulating logic in DEV mode...\n"
     ]
    },
    {
     "name": "stderr",
     "output_type": "stream",
     "text": [
      "[2025-05-29 15:01:30,490] [DEBUG] [DEV] DEV environment: Full diagnostics enabled\n"
     ]
    },
    {
     "name": "stdout",
     "output_type": "stream",
     "text": [
      "[RESULT]\n",
      "Input query    : logtest\n",
      "Processed (DEV MOCK): LOGTEST\n",
      "[DEBUG] DEV environment: Full diagnostics enabled\n",
      "Exit code: 0\n",
      "Captured logs:\n",
      " \n"
     ]
    }
   ],
   "source": [
    "import logging\n",
    "from io import StringIO\n",
    "from unittest import mock\n",
    "\n",
    "# Setup StringIO stream and logging handler\n",
    "log_stream = StringIO()\n",
    "handler = logging.StreamHandler(log_stream)\n",
    "logger = logging.getLogger(\"myproject.cli\")\n",
    "logger.addHandler(handler)\n",
    "logger.setLevel(logging.INFO)\n",
    "logger.propagate = False\n",
    "\n",
    "# Mock sys.argv for CLI args\n",
    "mock_args = [\"myproject\", \"--query\", \"logtest\", \"--color=never\"]\n",
    "\n",
    "with mock.patch.object(sys, \"argv\", mock_args):\n",
    "    try:\n",
    "        myproject.cli.main()\n",
    "    except SystemExit as e:\n",
    "        exit_code = e.code\n",
    "\n",
    "# Read captured logs\n",
    "logs = log_stream.getvalue()\n",
    "\n",
    "print(\"Exit code:\", exit_code)\n",
    "print(\"Captured logs:\\n\", logs)\n",
    "\n",
    "# Cleanup handler after test\n",
    "logger.removeHandler(handler)"
   ]
  },
  {
   "cell_type": "code",
   "execution_count": 8,
   "id": "5ae317e6",
   "metadata": {},
   "outputs": [
    {
     "name": "stdout",
     "output_type": "stream",
     "text": [
      "PASS: input=None correctly raised ValueError\n",
      "PASS: input='' correctly raised ValueError\n",
      "PASS: input='   ' correctly raised ValueError\n",
      "PASS: input='test' → Processed query: test\n",
      "PASS: input='  hello  ' → Processed query: hello\n"
     ]
    }
   ],
   "source": [
    "from myproject.core import process_query\n",
    "\n",
    "# Define test cases: (input value, should_raise_exception)\n",
    "test_cases = [\n",
    "    (None, True),\n",
    "    (\"\", True),\n",
    "    (\"   \", True),\n",
    "    (\"test\", False),\n",
    "    (\"  hello  \", False),\n",
    "]\n",
    "\n",
    "for value, should_raise in test_cases:\n",
    "    try:\n",
    "        result = process_query(value)\n",
    "        if should_raise:\n",
    "            print(f\"FAIL: Expected ValueError for input={repr(value)} but got {result}\")\n",
    "        else:\n",
    "            expected = f\"Processed query: {value.strip()}\"\n",
    "            if result == expected:\n",
    "                print(f\"PASS: input={repr(value)} → {result}\")\n",
    "            else:\n",
    "                print(f\"FAIL: input={repr(value)} → Expected '{expected}', got '{result}'\")\n",
    "    except ValueError as e:\n",
    "        if should_raise:\n",
    "            print(f\"PASS: input={repr(value)} correctly raised ValueError\")\n",
    "        else:\n",
    "            print(f\"FAIL: Unexpected ValueError for input={repr(value)} → {e}\")\n"
   ]
  },
  {
   "cell_type": "code",
   "execution_count": 9,
   "id": "34b88136",
   "metadata": {},
   "outputs": [],
   "source": [
    "import subprocess\n",
    "import os\n",
    "from pathlib import Path\n",
    "\n",
    "# CLI invocation helper\n",
    "def run_cli(args, env_vars=None):\n",
    "    full_args = [sys.executable, \"-m\", \"myproject\"] + args + [\"--color=never\"]\n",
    "\n",
    "    # Add src/ to PYTHONPATH for module discovery\n",
    "    env = os.environ.copy()\n",
    "    if env_vars:\n",
    "        env.update(env_vars)\n",
    "    env[\"PYTHONPATH\"] = os.path.abspath(\"src\")\n",
    "\n",
    "    result = subprocess.run(\n",
    "        full_args,\n",
    "        capture_output=True,\n",
    "        text=True,\n",
    "        encoding=\"utf-8\",\n",
    "        env=env,  # ← Pass updated environment here\n",
    "    )\n",
    "    return result.stdout.strip(), result.stderr.strip(), result.returncode\n",
    "\n",
    "log_path = Path(\"logs/myproject.log\")\n",
    "def read_log():\n",
    "    return log_path.read_text(encoding=\"utf-8\") if log_path.exists() else \"\"\n"
   ]
  },
  {
   "cell_type": "code",
   "execution_count": 10,
   "id": "ac9f8605",
   "metadata": {},
   "outputs": [
    {
     "name": "stdout",
     "output_type": "stream",
     "text": [
      "STDOUT:\n",
      " [INFO] Processing query...\n",
      "[DEBUG] Simulating logic in DEV mode...\n",
      "[RESULT]\n",
      "Input query    : hello\n",
      "Processed (DEV MOCK): HELLO\n",
      "[DEBUG] DEV environment: Full diagnostics enabled\n",
      "STDERR:\n",
      " [2025-05-29 15:01:30,684] [INFO] [DEV] Processing query...\n",
      "[2025-05-29 15:01:30,684] [DEBUG] [DEV] Simulating logic in DEV mode...\n",
      "[2025-05-29 15:01:30,684] [DEBUG] [DEV] DEV environment: Full diagnostics enabled\n",
      "EXIT CODE: 0\n"
     ]
    }
   ],
   "source": [
    "os.environ[\"MYPROJECT_ENV\"] = \"DEV\"\n",
    "\n",
    "stdout, stderr, code = run_cli([\"--query\", \"hello\"])\n",
    "print(\"STDOUT:\\n\", stdout)\n",
    "print(\"STDERR:\\n\", stderr)\n",
    "print(\"EXIT CODE:\", code)\n"
   ]
  },
  {
   "cell_type": "code",
   "execution_count": 11,
   "id": "3f115b0a",
   "metadata": {},
   "outputs": [
    {
     "name": "stdout",
     "output_type": "stream",
     "text": [
      "STDOUT:\n",
      " \n",
      "STDERR:\n",
      " [2025-05-29 15:01:30,932] [ERROR] [DEV] [ERROR] argument -q/--query: Query string must not be empty\n",
      "[ERROR] argument error: argument -q/--query: Query string must not be empty\n",
      "usage: __main__.py [-h] -q QUERY [--version] [--quiet]\n",
      "                   [--color {auto,always,never}]\n",
      "\n",
      "MyProject CLI — a template command-line entry point.\n",
      "\n",
      "options:\n",
      "  -h, --help            show this help message and exit\n",
      "  -q, --query QUERY     Search query or string to process (must not be empty)\n",
      "  --version             Show version and exit\n",
      "  --quiet               Suppress log messages\n",
      "  --color {auto,always,never}\n",
      "                        Colorized output: auto, always, or never\n",
      "EXIT CODE: 1\n"
     ]
    }
   ],
   "source": [
    "stdout, stderr, code = run_cli([\"--query\", \" \"])\n",
    "print(\"STDOUT:\\n\", stdout)\n",
    "print(\"STDERR:\\n\", stderr)\n",
    "print(\"EXIT CODE:\", code)\n"
   ]
  },
  {
   "cell_type": "code",
   "execution_count": 12,
   "id": "45ba1417",
   "metadata": {},
   "outputs": [
    {
     "name": "stdout",
     "output_type": "stream",
     "text": [
      "Log file content:\n",
      "\n",
      "[2025-05-29 14:58:49,188] [INFO] [DEV] Processing query...\n",
      "[2025-05-29 14:58:49,191] [DEBUG] [DEV] Simulating logic in DEV mode...\n",
      "[2025-05-29 14:58:49,194] [DEBUG] [DEV] DEV environment: Full diagnostics enabled\n",
      "[2025-05-29 14:59:04,536] [INFO] [DEV] Processing query...\n",
      "[2025-05-29 14:59:04,537] [DEBUG] [DEV] Simulating logic in DEV mode...\n",
      "[2025-05-29 14:59:04,539] [DEBUG] [DEV] DEV environment: Full diagnostics enabled\n",
      "[2025-05-29 14:59:04,773] [INFO] [DEV] Processing query...\n",
      "[2025-05-29 14:59:04,773] [DEBUG] [DEV] Simulating logic in DEV mode...\n",
      "[2025-05-29 14:59:04,773] [DEBUG] [DEV] DEV environment: Full diagnostics enabled\n",
      "[2025-05-29 14:59:04,943] [ERROR] [DEV] [ERROR] argument -q/--query: Query string must not be empty\n",
      "[2025-05-29 14:59:05,160] [INFO] [UAT] Processing query...\n",
      "[2025-05-29 14:59:05,160] [INFO] [UAT] UAT environment: Pre-production validation\n",
      "[2025-05-29 15:00:34,154] [INFO] [DEV] Processing query...\n",
      "[2025-05-29 15:00:34,158] [DEBUG] [DEV] Simulating logic in DEV mode...\n",
      "[2025-05-29 15:00:34,161] [DEBUG] [DEV] DEV environment: Full diagnostics enabled\n",
      "[2025-05-29 15:00:34,404] [INFO] [DEV] Processing query...\n",
      "[2025-05-29 15:00:34,405] [DEBUG] [DEV] Simulating logic in DEV mode...\n",
      "[2025-05-29 15:00:34,405] [DEBUG] [DEV] DEV environment: Full diagnostics enabled\n",
      "[2025-05-29 15:00:34,560] [ERROR] [DEV] [ERROR] argument -q/--query: Query string must not be empty\n",
      "[2025-05-29 15:00:34,728] [INFO] [UAT] Processing query...\n",
      "[2025-05-29 15:00:34,728] [INFO] [UAT] UAT environment: Pre-production validation\n",
      "[2025-05-29 15:01:30,484] [INFO] [DEV] Processing query...\n",
      "[2025-05-29 15:01:30,487] [DEBUG] [DEV] Simulating logic in DEV mode...\n",
      "[2025-05-29 15:01:30,490] [DEBUG] [DEV] DEV environment: Full diagnostics enabled\n",
      "[2025-05-29 15:01:30,684] [INFO] [DEV] Processing query...\n",
      "[2025-05-29 15:01:30,684] [DEBUG] [DEV] Simulating logic in DEV mode...\n",
      "[2025-05-29 15:01:30,684] [DEBUG] [DEV] DEV environment: Full diagnostics enabled\n",
      "[2025-05-29 15:01:30,932] [ERROR] [DEV] [ERROR] argument -q/--query: Query string must not be empty\n",
      "\n"
     ]
    }
   ],
   "source": [
    "print(\"Log file content:\\n\")\n",
    "print(read_log())\n"
   ]
  },
  {
   "cell_type": "code",
   "execution_count": 13,
   "id": "82290669",
   "metadata": {},
   "outputs": [
    {
     "name": "stdout",
     "output_type": "stream",
     "text": [
      "STDOUT:\n",
      " [INFO] Processing query...\n",
      "[RESULT]\n",
      "Input query    : uat test\n",
      "Processed query: uat test\n",
      "[INFO] UAT environment: Pre-production validation\n",
      "STDERR:\n",
      " [2025-05-29 15:01:31,146] [INFO] [UAT] Processing query...\n",
      "[2025-05-29 15:01:31,146] [INFO] [UAT] UAT environment: Pre-production validation\n",
      "EXIT CODE: 0\n",
      "\n",
      "Log file content:\n",
      "\n",
      "[2025-05-29 14:58:49,188] [INFO] [DEV] Processing query...\n",
      "[2025-05-29 14:58:49,191] [DEBUG] [DEV] Simulating logic in DEV mode...\n",
      "[2025-05-29 14:58:49,194] [DEBUG] [DEV] DEV environment: Full diagnostics enabled\n",
      "[2025-05-29 14:59:04,536] [INFO] [DEV] Processing query...\n",
      "[2025-05-29 14:59:04,537] [DEBUG] [DEV] Simulating logic in DEV mode...\n",
      "[2025-05-29 14:59:04,539] [DEBUG] [DEV] DEV environment: Full diagnostics enabled\n",
      "[2025-05-29 14:59:04,773] [INFO] [DEV] Processing query...\n",
      "[2025-05-29 14:59:04,773] [DEBUG] [DEV] Simulating logic in DEV mode...\n",
      "[2025-05-29 14:59:04,773] [DEBUG] [DEV] DEV environment: Full diagnostics enabled\n",
      "[2025-05-29 14:59:04,943] [ERROR] [DEV] [ERROR] argument -q/--query: Query string must not be empty\n",
      "[2025-05-29 14:59:05,160] [INFO] [UAT] Processing query...\n",
      "[2025-05-29 14:59:05,160] [INFO] [UAT] UAT environment: Pre-production validation\n",
      "[2025-05-29 15:00:34,154] [INFO] [DEV] Processing query...\n",
      "[2025-05-29 15:00:34,158] [DEBUG] [DEV] Simulating logic in DEV mode...\n",
      "[2025-05-29 15:00:34,161] [DEBUG] [DEV] DEV environment: Full diagnostics enabled\n",
      "[2025-05-29 15:00:34,404] [INFO] [DEV] Processing query...\n",
      "[2025-05-29 15:00:34,405] [DEBUG] [DEV] Simulating logic in DEV mode...\n",
      "[2025-05-29 15:00:34,405] [DEBUG] [DEV] DEV environment: Full diagnostics enabled\n",
      "[2025-05-29 15:00:34,560] [ERROR] [DEV] [ERROR] argument -q/--query: Query string must not be empty\n",
      "[2025-05-29 15:00:34,728] [INFO] [UAT] Processing query...\n",
      "[2025-05-29 15:00:34,728] [INFO] [UAT] UAT environment: Pre-production validation\n",
      "[2025-05-29 15:01:30,484] [INFO] [DEV] Processing query...\n",
      "[2025-05-29 15:01:30,487] [DEBUG] [DEV] Simulating logic in DEV mode...\n",
      "[2025-05-29 15:01:30,490] [DEBUG] [DEV] DEV environment: Full diagnostics enabled\n",
      "[2025-05-29 15:01:30,684] [INFO] [DEV] Processing query...\n",
      "[2025-05-29 15:01:30,684] [DEBUG] [DEV] Simulating logic in DEV mode...\n",
      "[2025-05-29 15:01:30,684] [DEBUG] [DEV] DEV environment: Full diagnostics enabled\n",
      "[2025-05-29 15:01:30,932] [ERROR] [DEV] [ERROR] argument -q/--query: Query string must not be empty\n",
      "[2025-05-29 15:01:31,146] [INFO] [UAT] Processing query...\n",
      "[2025-05-29 15:01:31,146] [INFO] [UAT] UAT environment: Pre-production validation\n",
      "\n"
     ]
    }
   ],
   "source": [
    "os.environ[\"MYPROJECT_ENV\"] = \"UAT\"\n",
    "\n",
    "stdout, stderr, code = run_cli([\"--query\", \"uat test\"])\n",
    "print(\"STDOUT:\\n\", stdout)\n",
    "print(\"STDERR:\\n\", stderr)\n",
    "print(\"EXIT CODE:\", code)\n",
    "\n",
    "print(\"\\nLog file content:\\n\")\n",
    "print(read_log())\n"
   ]
  },
  {
   "cell_type": "code",
   "execution_count": 38,
   "id": "080609f3",
   "metadata": {},
   "outputs": [
    {
     "name": "stderr",
     "output_type": "stream",
     "text": [
      "[2025-05-29 15:10:42,578] [INFO] [DEV] Processing query...\n"
     ]
    },
    {
     "name": "stdout",
     "output_type": "stream",
     "text": [
      "[INFO] Processing query...\n"
     ]
    },
    {
     "name": "stderr",
     "output_type": "stream",
     "text": [
      "[2025-05-29 15:10:42,580] [DEBUG] [DEV] Simulating logic in DEV mode...\n"
     ]
    },
    {
     "name": "stdout",
     "output_type": "stream",
     "text": [
      "[DEBUG] Simulating logic in DEV mode...\n"
     ]
    },
    {
     "name": "stderr",
     "output_type": "stream",
     "text": [
      "[2025-05-29 15:10:42,581] [DEBUG] [DEV] DEV environment: Full diagnostics enabled\n"
     ]
    },
    {
     "name": "stdout",
     "output_type": "stream",
     "text": [
      "[RESULT]\n",
      "Input query    : logtest\n",
      "Processed (DEV MOCK): LOGTEST\n",
      "[DEBUG] DEV environment: Full diagnostics enabled\n",
      "########################################\n",
      "Captured Logs:\n",
      " Processing query...\n",
      "Simulating logic in DEV mode...\n",
      "DEV environment: Full diagnostics enabled\n",
      "\n",
      "Exit Code: 0\n"
     ]
    }
   ],
   "source": [
    "import myproject.cli\n",
    "\n",
    "# Patch argv\n",
    "sys.argv = [\"myproject\", \"--query\", \"logtest\", \"--color=never\"]\n",
    "\n",
    "# Capture logs from the correct logger used in cli.py\n",
    "log_stream = StringIO()\n",
    "handler = logging.StreamHandler(log_stream)\n",
    "logger = logging.getLogger(\"myproject\")  # <- fix here\n",
    "logger.addHandler(handler)\n",
    "logger.setLevel(logging.DEBUG)\n",
    "logger.propagate = False\n",
    "\n",
    "# Run CLI and capture exit\n",
    "try:\n",
    "    myproject.cli.main()\n",
    "except SystemExit as e:\n",
    "    exit_code = e.code\n",
    "\n",
    "# Show results\n",
    "logs = log_stream.getvalue()\n",
    "print(\"#\" * 40)\n",
    "print(\"Captured Logs:\\n\", logs)\n",
    "print(\"Exit Code:\", exit_code)\n",
    "\n",
    "# Clean up\n",
    "logger.removeHandler(handler)"
   ]
  },
  {
   "cell_type": "code",
   "execution_count": 1,
   "id": "c427d9f7",
   "metadata": {},
   "outputs": [
    {
     "name": "stderr",
     "output_type": "stream",
     "text": [
      "[2025-05-29 16:22:06,834] [DEBUG] [DEV] Logging initialized in C:\\Users\\HAMEDV~1\\AppData\\Local\\Temp\\tmp6bn5yvfh with level DEBUG\n",
      "[2025-05-29 16:22:06,836] [DEBUG] [DEV] Test debug log from notebook\n",
      "[2025-05-29 16:22:06,837] [INFO] [DEV] Test info log from notebook\n",
      "[2025-05-29 16:22:06,838] [ERROR] [DEV] Test error log from notebook\n"
     ]
    },
    {
     "name": "stdout",
     "output_type": "stream",
     "text": [
      "Temporary log path: C:\\Users\\HAMEDV~1\\AppData\\Local\\Temp\\tmp6bn5yvfh\\info.log\n",
      "Log file exists? True\n",
      "Log content:\n",
      " [2025-05-29 16:22:06,834] [DEBUG] [DEV] Logging initialized in C:\\Users\\HAMEDV~1\\AppData\\Local\\Temp\\tmp6bn5yvfh with level DEBUG\n",
      "[2025-05-29 16:22:06,836] [DEBUG] [DEV] Test debug log from notebook\n",
      "[2025-05-29 16:22:06,837] [INFO] [DEV] Test info log from notebook\n",
      "[2025-05-29 16:22:06,838] [ERROR] [DEV] Test error log from notebook\n",
      "\n"
     ]
    }
   ],
   "source": [
    "import logging\n",
    "import tempfile\n",
    "from pathlib import Path\n",
    "from myproject.cli_logger_utils import setup_logging\n",
    "from myproject.constants import LOG_FILE_NAME\n",
    "from myproject import settings\n",
    "\n",
    "# Step 1: Create a temporary directory\n",
    "temp_dir = tempfile.TemporaryDirectory()\n",
    "log_path = Path(temp_dir.name) / LOG_FILE_NAME\n",
    "print(\"Temporary log path:\", log_path)\n",
    "\n",
    "# Step 2: Override the LOG_DIR manually\n",
    "settings.LOG_DIR = temp_dir.name  # CAUTION: this directly mutates the settings module!\n",
    "\n",
    "# Step 3: Call setup_logging with reset=True and log_dir to ensure clean setup\n",
    "setup_logging(log_dir=Path(settings.LOG_DIR), reset=True)\n",
    "\n",
    "# Step 4: Get logger and write logs\n",
    "logger = logging.getLogger(\"myproject\")\n",
    "logger.debug(\"Test debug log from notebook\")\n",
    "logger.info(\"Test info log from notebook\")\n",
    "logger.error(\"Test error log from notebook\")\n",
    "\n",
    "# Step 5: Check if log file exists\n",
    "print(\"Log file exists?\", log_path.exists())\n",
    "\n",
    "# Step 6: Read and display log content\n",
    "if log_path.exists():\n",
    "    content = log_path.read_text(encoding=\"utf-8\")\n",
    "    print(\"Log content:\\n\", content)\n",
    "else:\n",
    "    print(\"Log file was not created.\")\n"
   ]
  },
  {
   "cell_type": "code",
   "execution_count": null,
   "id": "c3e897fc",
   "metadata": {},
   "outputs": [],
   "source": []
  }
 ],
 "metadata": {
  "kernelspec": {
   "display_name": ".venv",
   "language": "python",
   "name": "python3"
  },
  "language_info": {
   "codemirror_mode": {
    "name": "ipython",
    "version": 3
   },
   "file_extension": ".py",
   "mimetype": "text/x-python",
   "name": "python",
   "nbconvert_exporter": "python",
   "pygments_lexer": "ipython3",
   "version": "3.13.0"
  }
 },
 "nbformat": 4,
 "nbformat_minor": 5
}
