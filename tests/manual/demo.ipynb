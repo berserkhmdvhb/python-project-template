{
 "cells": [
  {
   "cell_type": "markdown",
   "id": "103e8ca1",
   "metadata": {},
   "source": []
  },
  {
   "cell_type": "code",
   "execution_count": null,
   "id": "4899535c",
   "metadata": {},
   "outputs": [],
   "source": [
    "\"\"\"\n",
    "import sys\n",
    "import os\n",
    "import subprocess\n",
    "import pytest\n",
    "# Ensure 'src' is in sys.path to allow direct Python imports (e.g., for `find_chars`)\n",
    "sys.path.insert(0, os.path.abspath(os.path.join(\"..\", \"..\", \"src\")))\n",
    "\"\"\"\n",
    "\n",
    "from myproject.cli.utils_color import print_lines, should_use_color\n",
    "\n",
    "lines = [\"one\", \"two\"]\n",
    "print_lines(lines, use_color=False)"
   ]
  },
  {
   "cell_type": "code",
   "execution_count": 6,
   "id": "d1c9bef0",
   "metadata": {},
   "outputs": [],
   "source": [
    "print_lines([\"[RESULT] done\", \"Input: ok\"], use_color=True)"
   ]
  },
  {
   "cell_type": "code",
   "execution_count": 11,
   "id": "aabc165e",
   "metadata": {},
   "outputs": [],
   "source": [
    "import sys\n",
    "from myproject.cli.utils_color import print_lines\n",
    "\n",
    "lines = [\"[RESULT] test passed\", \"Input query: demo\", \"plain log line\"]\n",
    "print_lines(lines, use_color=False, force_stdout=True)\n",
    "\n",
    "# Force flush stdout just in case\n",
    "sys.stdout.flush()"
   ]
  },
  {
   "cell_type": "code",
   "execution_count": null,
   "id": "aa718bb4",
   "metadata": {},
   "outputs": [],
   "source": []
  }
 ],
 "metadata": {
  "kernelspec": {
   "display_name": ".venv",
   "language": "python",
   "name": "python3"
  },
  "language_info": {
   "codemirror_mode": {
    "name": "ipython",
    "version": 3
   },
   "file_extension": ".py",
   "mimetype": "text/x-python",
   "name": "python",
   "nbconvert_exporter": "python",
   "pygments_lexer": "ipython3",
   "version": "3.13.0"
  }
 },
 "nbformat": 4,
 "nbformat_minor": 5
}
